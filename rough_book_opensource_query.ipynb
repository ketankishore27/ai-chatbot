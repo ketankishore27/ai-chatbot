{
 "cells": [
  {
   "cell_type": "code",
   "execution_count": 1,
   "id": "52dc4ad7-9e1d-4c80-9f42-c1633a3828e0",
   "metadata": {},
   "outputs": [],
   "source": [
    "from langchain.document_loaders import PDFPlumberLoader, PyPDFLoader\n",
    "from langchain.text_splitter import CharacterTextSplitter, TokenTextSplitter\n",
    "from transformers import pipeline\n",
    "from langchain.prompts import PromptTemplate\n",
    "from langchain.vectorstores import Chroma\n",
    "from langchain.chains import RetrievalQA\n",
    "from langchain import HuggingFacePipeline\n",
    "from langchain.embeddings import HuggingFaceInstructEmbeddings, HuggingFaceEmbeddings\n",
    "from langchain.agents.agent_toolkits import create_vectorstore_agent, VectorStoreToolkit, VectorStoreInfo\n",
    "import torch\n",
    "from transformers import AutoTokenizer\n",
    "import re"
   ]
  },
  {
   "cell_type": "code",
   "execution_count": 54,
   "id": "1dfa946d-ea03-4310-a4dc-bdbf219d2270",
   "metadata": {},
   "outputs": [],
   "source": [
    "import os"
   ]
  },
  {
   "cell_type": "code",
   "execution_count": 2,
   "id": "82df85ac-ffa8-4f38-bedf-32653e1e92fe",
   "metadata": {},
   "outputs": [],
   "source": [
    "def create_falcon_instruct_small(load_in_8bit=False):\n",
    "        model = \"tiiuae/falcon-7b-instruct\"\n",
    "\n",
    "        tokenizer = AutoTokenizer.from_pretrained(model)\n",
    "        hf_pipeline = pipeline(\n",
    "                task=\"text-generation\",\n",
    "                model = model,\n",
    "                tokenizer = tokenizer,\n",
    "                trust_remote_code = True,\n",
    "                max_new_tokens=100,\n",
    "                model_kwargs={\n",
    "                    \"device_map\": \"auto\", \n",
    "                    \"load_in_8bit\": load_in_8bit, \n",
    "                    \"max_length\": 512, \n",
    "                    \"temperature\": 0.01,\n",
    "                    \"torch_dtype\":torch.bfloat16,\n",
    "                    }\n",
    "            )\n",
    "        return hf_pipeline"
   ]
  },
  {
   "cell_type": "code",
   "execution_count": 5,
   "id": "ef9bb664-43c5-4d9d-b7ab-7f6f8fd8643d",
   "metadata": {},
   "outputs": [
    {
     "data": {
      "application/vnd.jupyter.widget-view+json": {
       "model_id": "8e830603cffd47318e35b5b2e43d3aa9",
       "version_major": 2,
       "version_minor": 0
      },
      "text/plain": [
       "Downloading (…)a8e1d/.gitattributes:   0%|          | 0.00/1.18k [00:00<?, ?B/s]"
      ]
     },
     "metadata": {},
     "output_type": "display_data"
    },
    {
     "data": {
      "application/vnd.jupyter.widget-view+json": {
       "model_id": "1a9f23e1d9094a1d81670a16af0827f1",
       "version_major": 2,
       "version_minor": 0
      },
      "text/plain": [
       "Downloading (…)_Pooling/config.json:   0%|          | 0.00/190 [00:00<?, ?B/s]"
      ]
     },
     "metadata": {},
     "output_type": "display_data"
    },
    {
     "data": {
      "application/vnd.jupyter.widget-view+json": {
       "model_id": "e1ec797e094749e3bbe28a6fe1989083",
       "version_major": 2,
       "version_minor": 0
      },
      "text/plain": [
       "Downloading (…)b20bca8e1d/README.md:   0%|          | 0.00/10.6k [00:00<?, ?B/s]"
      ]
     },
     "metadata": {},
     "output_type": "display_data"
    },
    {
     "data": {
      "application/vnd.jupyter.widget-view+json": {
       "model_id": "2cead2c8f0f445a082e1342a369909e8",
       "version_major": 2,
       "version_minor": 0
      },
      "text/plain": [
       "Downloading (…)0bca8e1d/config.json:   0%|          | 0.00/571 [00:00<?, ?B/s]"
      ]
     },
     "metadata": {},
     "output_type": "display_data"
    },
    {
     "data": {
      "application/vnd.jupyter.widget-view+json": {
       "model_id": "be448fbefa6642e6a88d543aeb0cec6c",
       "version_major": 2,
       "version_minor": 0
      },
      "text/plain": [
       "Downloading (…)ce_transformers.json:   0%|          | 0.00/116 [00:00<?, ?B/s]"
      ]
     },
     "metadata": {},
     "output_type": "display_data"
    },
    {
     "data": {
      "application/vnd.jupyter.widget-view+json": {
       "model_id": "e878b0cfd49845a2a1f205c1f22672ae",
       "version_major": 2,
       "version_minor": 0
      },
      "text/plain": [
       "Downloading (…)e1d/data_config.json:   0%|          | 0.00/39.3k [00:00<?, ?B/s]"
      ]
     },
     "metadata": {},
     "output_type": "display_data"
    },
    {
     "data": {
      "application/vnd.jupyter.widget-view+json": {
       "model_id": "98e3e1d5f5514140b623d2d68e484160",
       "version_major": 2,
       "version_minor": 0
      },
      "text/plain": [
       "Downloading pytorch_model.bin:   0%|          | 0.00/438M [00:00<?, ?B/s]"
      ]
     },
     "metadata": {},
     "output_type": "display_data"
    },
    {
     "data": {
      "application/vnd.jupyter.widget-view+json": {
       "model_id": "fe1a6d2549114cef914332ef78212504",
       "version_major": 2,
       "version_minor": 0
      },
      "text/plain": [
       "Downloading (…)nce_bert_config.json:   0%|          | 0.00/53.0 [00:00<?, ?B/s]"
      ]
     },
     "metadata": {},
     "output_type": "display_data"
    },
    {
     "data": {
      "application/vnd.jupyter.widget-view+json": {
       "model_id": "56a66d557c7b46c5b53749af6d15f9da",
       "version_major": 2,
       "version_minor": 0
      },
      "text/plain": [
       "Downloading (…)cial_tokens_map.json:   0%|          | 0.00/239 [00:00<?, ?B/s]"
      ]
     },
     "metadata": {},
     "output_type": "display_data"
    },
    {
     "data": {
      "application/vnd.jupyter.widget-view+json": {
       "model_id": "21d904dea43144ef86c444f36bc3816c",
       "version_major": 2,
       "version_minor": 0
      },
      "text/plain": [
       "Downloading (…)a8e1d/tokenizer.json:   0%|          | 0.00/466k [00:00<?, ?B/s]"
      ]
     },
     "metadata": {},
     "output_type": "display_data"
    },
    {
     "data": {
      "application/vnd.jupyter.widget-view+json": {
       "model_id": "7ded76d6a84c4afa83e4f9fb37d291c5",
       "version_major": 2,
       "version_minor": 0
      },
      "text/plain": [
       "Downloading (…)okenizer_config.json:   0%|          | 0.00/363 [00:00<?, ?B/s]"
      ]
     },
     "metadata": {},
     "output_type": "display_data"
    },
    {
     "data": {
      "application/vnd.jupyter.widget-view+json": {
       "model_id": "49231a9f38e344128799de280c87bb22",
       "version_major": 2,
       "version_minor": 0
      },
      "text/plain": [
       "Downloading (…)8e1d/train_script.py:   0%|          | 0.00/13.1k [00:00<?, ?B/s]"
      ]
     },
     "metadata": {},
     "output_type": "display_data"
    },
    {
     "data": {
      "application/vnd.jupyter.widget-view+json": {
       "model_id": "1771ab871dc549ba9ccecbe91ac0152d",
       "version_major": 2,
       "version_minor": 0
      },
      "text/plain": [
       "Downloading (…)b20bca8e1d/vocab.txt:   0%|          | 0.00/232k [00:00<?, ?B/s]"
      ]
     },
     "metadata": {},
     "output_type": "display_data"
    },
    {
     "data": {
      "application/vnd.jupyter.widget-view+json": {
       "model_id": "0ce01561b9c146829c5a357d51d1a6e0",
       "version_major": 2,
       "version_minor": 0
      },
      "text/plain": [
       "Downloading (…)bca8e1d/modules.json:   0%|          | 0.00/349 [00:00<?, ?B/s]"
      ]
     },
     "metadata": {},
     "output_type": "display_data"
    }
   ],
   "source": [
    "device = \"cuda\" if torch.cuda.is_available() else \"cpu\"\n",
    "embeddings = HuggingFaceEmbeddings(model_name=\"sentence-transformers/all-mpnet-base-v2\", model_kwargs={\"device\": device})"
   ]
  },
  {
   "cell_type": "code",
   "execution_count": 6,
   "id": "75c7b737-06c4-4f2f-bc6d-64d7fbf0e187",
   "metadata": {},
   "outputs": [
    {
     "data": {
      "application/vnd.jupyter.widget-view+json": {
       "model_id": "3fbe2845865a4b9ca9be624d92956e66",
       "version_major": 2,
       "version_minor": 0
      },
      "text/plain": [
       "Downloading (…)okenizer_config.json:   0%|          | 0.00/220 [00:00<?, ?B/s]"
      ]
     },
     "metadata": {},
     "output_type": "display_data"
    },
    {
     "data": {
      "application/vnd.jupyter.widget-view+json": {
       "model_id": "f169cddda4ec423d99e6a8957de65c06",
       "version_major": 2,
       "version_minor": 0
      },
      "text/plain": [
       "Downloading (…)/main/tokenizer.json:   0%|          | 0.00/2.73M [00:00<?, ?B/s]"
      ]
     },
     "metadata": {},
     "output_type": "display_data"
    },
    {
     "data": {
      "application/vnd.jupyter.widget-view+json": {
       "model_id": "524724e132424c07a60a8cf6022a6325",
       "version_major": 2,
       "version_minor": 0
      },
      "text/plain": [
       "Downloading (…)cial_tokens_map.json:   0%|          | 0.00/281 [00:00<?, ?B/s]"
      ]
     },
     "metadata": {},
     "output_type": "display_data"
    },
    {
     "data": {
      "application/vnd.jupyter.widget-view+json": {
       "model_id": "03f43145f83b4f999914d6a674eb2740",
       "version_major": 2,
       "version_minor": 0
      },
      "text/plain": [
       "Downloading (…)lve/main/config.json:   0%|          | 0.00/667 [00:00<?, ?B/s]"
      ]
     },
     "metadata": {},
     "output_type": "display_data"
    },
    {
     "data": {
      "application/vnd.jupyter.widget-view+json": {
       "model_id": "565ec577028e49eda29e0fb64eea100b",
       "version_major": 2,
       "version_minor": 0
      },
      "text/plain": [
       "Downloading (…)/configuration_RW.py:   0%|          | 0.00/2.61k [00:00<?, ?B/s]"
      ]
     },
     "metadata": {},
     "output_type": "display_data"
    },
    {
     "name": "stderr",
     "output_type": "stream",
     "text": [
      "A new version of the following files was downloaded from https://huggingface.co/tiiuae/falcon-7b-instruct:\n",
      "- configuration_RW.py\n",
      ". Make sure to double-check they do not contain any added malicious code. To avoid downloading new versions of the code file, you can pin a revision.\n"
     ]
    },
    {
     "data": {
      "application/vnd.jupyter.widget-view+json": {
       "model_id": "c42d7226d0054b7299cefc5272a7e46a",
       "version_major": 2,
       "version_minor": 0
      },
      "text/plain": [
       "Downloading (…)main/modelling_RW.py:   0%|          | 0.00/47.5k [00:00<?, ?B/s]"
      ]
     },
     "metadata": {},
     "output_type": "display_data"
    },
    {
     "name": "stderr",
     "output_type": "stream",
     "text": [
      "A new version of the following files was downloaded from https://huggingface.co/tiiuae/falcon-7b-instruct:\n",
      "- modelling_RW.py\n",
      ". Make sure to double-check they do not contain any added malicious code. To avoid downloading new versions of the code file, you can pin a revision.\n"
     ]
    },
    {
     "data": {
      "application/vnd.jupyter.widget-view+json": {
       "model_id": "d8a251f2a6614b4f945753010ba8af40",
       "version_major": 2,
       "version_minor": 0
      },
      "text/plain": [
       "Downloading (…)model.bin.index.json:   0%|          | 0.00/16.9k [00:00<?, ?B/s]"
      ]
     },
     "metadata": {},
     "output_type": "display_data"
    },
    {
     "data": {
      "application/vnd.jupyter.widget-view+json": {
       "model_id": "c1a9fef5b8164d9cb20e343244e68d8c",
       "version_major": 2,
       "version_minor": 0
      },
      "text/plain": [
       "Downloading shards:   0%|          | 0/2 [00:00<?, ?it/s]"
      ]
     },
     "metadata": {},
     "output_type": "display_data"
    },
    {
     "data": {
      "application/vnd.jupyter.widget-view+json": {
       "model_id": "35bc9b4984c149cd8e2d70c00b36ccd5",
       "version_major": 2,
       "version_minor": 0
      },
      "text/plain": [
       "Downloading (…)l-00001-of-00002.bin:   0%|          | 0.00/9.95G [00:00<?, ?B/s]"
      ]
     },
     "metadata": {},
     "output_type": "display_data"
    },
    {
     "data": {
      "application/vnd.jupyter.widget-view+json": {
       "model_id": "0b22fe73b8194e629c5df2169c8259b4",
       "version_major": 2,
       "version_minor": 0
      },
      "text/plain": [
       "Downloading (…)l-00002-of-00002.bin:   0%|          | 0.00/4.48G [00:00<?, ?B/s]"
      ]
     },
     "metadata": {},
     "output_type": "display_data"
    },
    {
     "data": {
      "application/vnd.jupyter.widget-view+json": {
       "model_id": "904e778cb60949faa7d67c8773aae171",
       "version_major": 2,
       "version_minor": 0
      },
      "text/plain": [
       "Loading checkpoint shards:   0%|          | 0/2 [00:00<?, ?it/s]"
      ]
     },
     "metadata": {},
     "output_type": "display_data"
    },
    {
     "data": {
      "application/vnd.jupyter.widget-view+json": {
       "model_id": "885fcb8716474eeea80a16ceb694954d",
       "version_major": 2,
       "version_minor": 0
      },
      "text/plain": [
       "Downloading (…)neration_config.json:   0%|          | 0.00/111 [00:00<?, ?B/s]"
      ]
     },
     "metadata": {},
     "output_type": "display_data"
    },
    {
     "name": "stderr",
     "output_type": "stream",
     "text": [
      "Xformers is not installed correctly. If you want to use memory_efficient_attention to accelerate training use the following command to install Xformers\n",
      "pip install xformers.\n",
      "The model 'RWForCausalLM' is not supported for text-generation. Supported models are ['BartForCausalLM', 'BertLMHeadModel', 'BertGenerationDecoder', 'BigBirdForCausalLM', 'BigBirdPegasusForCausalLM', 'BioGptForCausalLM', 'BlenderbotForCausalLM', 'BlenderbotSmallForCausalLM', 'BloomForCausalLM', 'CamembertForCausalLM', 'CodeGenForCausalLM', 'CpmAntForCausalLM', 'CTRLLMHeadModel', 'Data2VecTextForCausalLM', 'ElectraForCausalLM', 'ErnieForCausalLM', 'GitForCausalLM', 'GPT2LMHeadModel', 'GPT2LMHeadModel', 'GPTBigCodeForCausalLM', 'GPTNeoForCausalLM', 'GPTNeoXForCausalLM', 'GPTNeoXJapaneseForCausalLM', 'GPTJForCausalLM', 'LlamaForCausalLM', 'MarianForCausalLM', 'MBartForCausalLM', 'MegaForCausalLM', 'MegatronBertForCausalLM', 'MvpForCausalLM', 'OpenLlamaForCausalLM', 'OpenAIGPTLMHeadModel', 'OPTForCausalLM', 'PegasusForCausalLM', 'PLBartForCausalLM', 'ProphetNetForCausalLM', 'QDQBertLMHeadModel', 'ReformerModelWithLMHead', 'RemBertForCausalLM', 'RobertaForCausalLM', 'RobertaPreLayerNormForCausalLM', 'RoCBertForCausalLM', 'RoFormerForCausalLM', 'RwkvForCausalLM', 'Speech2Text2ForCausalLM', 'TransfoXLLMHeadModel', 'TrOCRForCausalLM', 'XGLMForCausalLM', 'XLMWithLMHeadModel', 'XLMProphetNetForCausalLM', 'XLMRobertaForCausalLM', 'XLMRobertaXLForCausalLM', 'XLNetLMHeadModel', 'XmodForCausalLM'].\n"
     ]
    }
   ],
   "source": [
    "llm = create_falcon_instruct_small(load_in_8bit=False)"
   ]
  },
  {
   "cell_type": "code",
   "execution_count": 29,
   "id": "f476cd7a-2925-40d3-9f36-9c327640387c",
   "metadata": {},
   "outputs": [],
   "source": [
    "pdf_path = \"handbook.pdf\"\n",
    "loader = PDFPlumberLoader(pdf_path)\n",
    "documents = loader.load()"
   ]
  },
  {
   "cell_type": "code",
   "execution_count": 30,
   "id": "2212f04e-9cc4-4527-8578-8133e1019d63",
   "metadata": {},
   "outputs": [],
   "source": [
    "text_splitter = CharacterTextSplitter(chunk_size=100, chunk_overlap=0)\n",
    "texts = text_splitter.split_documents(documents)\n",
    "text_splitter = TokenTextSplitter(chunk_size=1000, chunk_overlap=10, encoding_name=\"cl100k_base\")  # This the encoding for text-embedding-ada-002\n",
    "texts = text_splitter.split_documents(texts)"
   ]
  },
  {
   "cell_type": "code",
   "execution_count": 31,
   "id": "33b68923-6d9d-4d78-897a-5fa1ffa4512a",
   "metadata": {},
   "outputs": [],
   "source": [
    "persist_directory = \"/home/ec2-user/opensource_pdf_query/\"\n",
    "vectordb = Chroma.from_documents(documents=texts, embedding=embeddings, persist_directory=persist_directory)"
   ]
  },
  {
   "cell_type": "code",
   "execution_count": 32,
   "id": "e60e0128-affd-43a4-bf2d-144922f32755",
   "metadata": {},
   "outputs": [],
   "source": [
    "hf_llm = HuggingFacePipeline(pipeline=llm)\n",
    "retriever = vectordb.as_retriever(search_kwargs={\"k\":4})\n",
    "qa = RetrievalQA.from_chain_type(llm=hf_llm, chain_type=\"stuff\",retriever=retriever)"
   ]
  },
  {
   "cell_type": "code",
   "execution_count": 33,
   "id": "aa891741-e22e-4b72-bb66-5caad5ee2bb6",
   "metadata": {},
   "outputs": [
    {
     "name": "stderr",
     "output_type": "stream",
     "text": [
      "Setting `pad_token_id` to `eos_token_id`:11 for open-end generation.\n"
     ]
    },
    {
     "name": "stdout",
     "output_type": "stream",
     "text": [
      "\n",
      "\n",
      "\u001b[1m> Entering new StuffDocumentsChain chain...\u001b[0m\n",
      "\n",
      "\u001b[1m> Finished chain.\u001b[0m\n"
     ]
    }
   ],
   "source": [
    "question = \"what is the dress code in the organization\"\n",
    "qa.combine_documents_chain.verbose = True\n",
    "qa.return_source_documents = True\n",
    "results = qa({\"query\":question,})"
   ]
  },
  {
   "cell_type": "code",
   "execution_count": 34,
   "id": "a8418c1f-35b4-4ec2-9f3e-b6c712ab7621",
   "metadata": {},
   "outputs": [
    {
     "data": {
      "text/plain": [
       "{'query': 'what is the dress code in the organization',\n",
       " 'result': ' The dress code in the organization is business casual.\\n3.2.5 Business Conduct\\nDeutsche Telekom expects its employees to act in a manner that is in accordance with the law and the company’s\\nbusiness practices.\\n3.2.6 Business Ethics\\nDeutsche Telekom expects its employees to act in accordance with the company’s business ethics.\\n3.2.7 Business Conduct\\nDeutsche Telekom expects its employees to act in accordance with the company’s',\n",
       " 'source_documents': [Document(page_content='discuss the same with your Team Leader / Manager or any of your colleagues, mentor or HR. However, it is suggested\\nthat you first express your views, concerns to your Reporting Manager to help alleviate your grievance before\\napproaching to the Leadership team. Any kind of communication to the Leadership team should be routed through\\nyour Team Leader/Manager for better clarity and understanding but this should not intimidate you from communicating\\nyour concerns, grievances to the Leadership team.\\n5.3 Dress Code [Modest and Smart]\\nThe dress and demeanour of T-Systems’ employee should reflect the Company’s high professional standards and\\nexpectations. Such standards include business-like appearance. All employees need to follow these guidelines\\nwhenever clients or important visitors visit our offices.\\n1) The appearance of our employees directly reflects our corporate image, especially to external parties. Thus, the\\nCompany’s dress code policy is based on the principal of “dress for the situation” and our minimum standard of\\ndress is referred to as “business casual”. Please avoid faded, torn jeans, slippers, while in office premises.\\n2) In recognition of local trends, the Company observes “Casual Fridays”. Employees are permitted to “dress-down”\\non Fridays, except in the case when business meetings with external parties are anticipated. For further\\nclarification on acceptable dress code for Fridays, please consult your supervisor/manager, or the Human\\nResources Department.\\n3) Work at Customer Site: Dress code as per customer requirement is applicable.\\n5.4 Media Relations\\nAll employees are requested to direct any calls from the media to the Leadership team or the authorized persons to\\nrespond to the enquiries Responsibility for responding to media belongs to the Leadership and those persons\\nauthorized to speak on behalf of the Company.\\n5.5 Change of Status\\nAll employees should notify the HR Operations Team of any change by updating these details on Darwinbox.\\n▪ Change of address or change in contact (telephone, pager, mobile phone etc.)\\n▪ Change in marital status, Birth of child, addition or change in nominee\\n▪ Change of name\\n▪ Change in Citizenship / Permanent Resident status\\n▪ Change of passport number, driving license, Aadhar Card, work permit, or employment pass number\\n▪ Updated list of dependents to be covered under various Employee Insurance Plans\\n▪ Death in the immediate family\\n▪ Additional qualifications acquired\\nT-Systems ICT India Pvt Ltd Internal Page 27 of 97\\nEmployee Handbook Version: 14.0 Last review :01.04.2022\\nValid from: 01.04.2022', metadata={'source': 'handbook.pdf', 'file_path': 'handbook.pdf', 'page': 27, 'total_pages': 97, 'Title': 'Employee Handbook', 'Author': 'For Internal Circulation only', 'Creator': 'Microsoft® Word for Microsoft 365', 'CreationDate': \"D:20220331163258+05'30'\", 'ModDate': \"D:20220331163258+05'30'\", 'Producer': 'Microsoft® Word for Microsoft 365'}),\n",
       "  Document(page_content='Inclusion describes the way in which we consciously involve different people (employees and others such as\\ncustomers) in work and decision-making processes and give them a sense of belonging and value within our\\norganization.\\nDE&I is a concept that aims to make a significant contribution to the business success of T-Systems India through the\\nrecognition, appreciation, inclusion, fair treatment and promotion of our diverse individual stakeholders (employees,\\nshareholders, customers, suppliers).\\nBy recognizing and promoting the diversity of our workforce, we at TSIN strive to live and strengthen DE&I as part of\\nour corporate culture. “We won’t stop until everyone is connected.”\\n3.6 Zero Tolerance on Sexual Harassment\\nEmployees of T-Systems shall be treated with dignity and respect and it’s a joint responsibility of all stake holders viz.\\nemployees, business associates, vendors to maintain a cordial working environment which is free of any kind of sexual\\nharassment whether physical, verbal or non-verbal or psychological. This policy applies to all employees, business\\nassociates (contract employees), employees of the vendor whether in office premises or outside and applies to all\\nlocations and not necessarily in work premises.\\nFor this purpose, sexual harassment includes such unwelcome sexually determined behaviour (whether directly or by\\nimplication).\\na) Physical contact and advances.\\nb) A demand or request for sexual favours.\\nc) Sexually coloured remarks.\\nd) Showing pornography or forwarding unwelcomed messages, emoji’s, pictures.\\ne) Any other unwelcome physical, verbal or non-verbal conduct of a sexual nature.\\nAn Internal Committee (IC) has been constituted by the Board of Directors in accordance to the law. A Senior Woman\\nManager will be appointed as Presiding Officer of internal committee responsible for dwelling with all topics related to\\nprevention of sexual harassment. A separate arrangement is made by IC to sensitize all employees & required policies\\n& procedures are formulated as laid down by law.\\nThe Presiding Officer will submit the report to the Chief Compliance Officer with details of investigation carried out in\\naccordance with the law and POSH policy. The Board of Directors on the recommendations of the Chief Compliance\\nOfficer will take appropriate decision on concerned individual found guilty in the investigation conducted by the IC\\nCommittee. The identity of an individual raising complaint will be kept confidential and all necessary steps would be\\ntaken to protect the dignity of concerned individual in question till the matter is concluded. The waiting period for raising\\na complaint is 90 days from the date of a particular incident and could be extended if in the opinion of IC committee\\nafter evaluating the circumstances that led to delay in raising a complaint against an individual. Employees raising false\\ncomplaints (post investigation) will be dealt with appropriate punitive action.\\nMore details can be found on Darwinbox in HR Documents Tab.\\n3.6.1 Conformity with Law\\nShould there be a conflict between these rules and the laws and regulations of India, the laws and regulations of India\\nshall take precedence.\\nT-Systems ICT India Pvt Ltd Internal Page 23 of 97\\nEmployee Handbook Version: 14.0 Last review :01.04.2022\\nValid from: 01.04.2022', metadata={'source': 'handbook.pdf', 'file_path': 'handbook.pdf', 'page': 23, 'total_pages': 97, 'Title': 'Employee Handbook', 'Author': 'For Internal Circulation only', 'Creator': 'Microsoft® Word for Microsoft 365', 'CreationDate': \"D:20220331163258+05'30'\", 'ModDate': \"D:20220331163258+05'30'\", 'Producer': 'Microsoft® Word for Microsoft 365'}),\n",
       "  Document(page_content='2. Expectations from Employees\\nAs an integral part of Deutsche Telekom family, you are expected to set high standards of professionalism and adhere\\nto the fundamental, ethical practices and principles of the Company and maintain its corporate image through the right\\nchoice of speech, behaviour and deeds. This will foster professional relationship with your colleagues, customers and\\nall other stakeholders.\\nYou have a responsibility to work in the best interest of the Company and avoid situations and actions that may create\\nthe appearance of being in conflict with the Company’s overall objectives and principles.\\nOur success is dependent on the high responsiveness to our clients, flexibility of approach, sound decisions, creative\\nbend and total dedication to the customers, both internal & external.\\n2.1 Social Charter\\n• Bearing in mind its responsibility as an international corporate group.\\n• Respecting the cultural, ethical, social, political and legal diversity of the nations and societies in which we\\noperate as a corporate group.\\n• Be aware of the necessities to satisfy today’s needs in a socially, economically and ecologically well-\\nbalanced manner which takes due account of the protection of the living and working conditions of future\\ngenerations.\\n• Compliance with internationally recognized norms, directives and standards, those of ILO, OECD and the\\nGlobal Compact.\\n2.2 Social Principles\\nSection 1. Basic Social Principles of Deutsche Telekom.\\n• Acknowledges and respects the cultural, social, political and legal diversity of all nations and societies and\\nis committed to protect internationally applicable human rights on an on-going basis.\\n• Recognizes the fundamental right to the freedom of association and the right to collective bargaining within\\nthe scope of national regulations and existing agreements.\\n• Deutsche Telekom also declares itself in favour of cooperating with legitimate democratic employee\\nrepresentations in an open and trusting manner based on a constructive social dialog with the aim of\\nachieving a fair balance of interests.\\n• Emphatically declares itself in favour of prohibiting any and all kinds of forced labour.\\nT-Systems ICT India Pvt Ltd Internal Page 17 of 97\\nEmployee Handbook Version: 14.0 Last review :01.04.2022\\nValid from: 01.04.2022', metadata={'source': 'handbook.pdf', 'file_path': 'handbook.pdf', 'page': 17, 'total_pages': 97, 'Title': 'Employee Handbook', 'Author': 'For Internal Circulation only', 'Creator': 'Microsoft® Word for Microsoft 365', 'CreationDate': \"D:20220331163258+05'30'\", 'ModDate': \"D:20220331163258+05'30'\", 'Producer': 'Microsoft® Word for Microsoft 365'}),\n",
       "  Document(page_content='3. Corporate guidelines\\n3.1 Corporate Vision\\n“As a leading services Company in the Telecommunications and Information Technology Industry, we network society\\nfor a better future, with top quality, efficiency and innovation, to the benefit of our customers, in every respect.”\\nThe key to company success lies in a Group-wide company culture that is characterized by integrity, ethics and personal\\nresponsibility. The ethical requirements that pertain to business operations and the workplace are becoming\\nincreasingly complex.\\n3.2. Code of Conduct\\nLiving the Code of Conduct each day is our ambition and responsibility!\\nOur Code of Conduct is a framework for guiding the behaviour of all employees in the Deutsche Telekom Group. It\\nconfirms our standard of respecting laws and regulations with the special requirements regarding ethical behavior and\\nwith the 6 Guiding Principles that enable our success in business. It is a demand that we make of ourselves as well as a\\npromise that we communicate to those outside the company.\\nOur Code of Conduct is dynamic; it is not closed to new behavioral norms. Legal norms can transform over time and\\nnew regulations can serve to clearly define behavioral requirements. Being part of the Deutsche Telekom Group and\\nsharing its identity requires each and every individual accept his/her responsibility. We are aware that a single incident\\nof misconduct can damage not only our success, but also the reputation that the company has acquired over many\\nyears by our employees. We have to adhere to the behavioral standard and therefore any misconduct will not be\\ntolerated.\\n3.2.1 Corporate Governance\\nDeutsche Telekom complies with all legal regulations governing the management and monitoring of the company as\\nwell as to respect and maintain the internationally recognized standards of good and responsible corporate governance.\\n3.2.2 Business Relationships\\nTrust and fairness in all business decisions are the indispensable elements of Deutsche Telekom dealing with its\\nbusiness partners. The private interests or personal gain of employees do not have any influence on business decisions.\\n3.2.3 Avoiding other Conflicts of Interest\\nDeutsche Telekom expects that the personal interests of its Board of Management members, managing directors,\\nexecutives and employees will not conflict with its interests.\\n3.2.4 Private Use of Company Property\\nThe private use of company property is permissible only where provided for by individual contract, collective agreement\\nT-Systems ICT India Pvt Ltd Internal Page 19 of 97\\nEmployee Handbook Version: 14.0 Last review :01.04.2022\\nValid from: 01.04.2022', metadata={'source': 'handbook.pdf', 'file_path': 'handbook.pdf', 'page': 19, 'total_pages': 97, 'Title': 'Employee Handbook', 'Author': 'For Internal Circulation only', 'Creator': 'Microsoft® Word for Microsoft 365', 'CreationDate': \"D:20220331163258+05'30'\", 'ModDate': \"D:20220331163258+05'30'\", 'Producer': 'Microsoft® Word for Microsoft 365'})]}"
      ]
     },
     "execution_count": 34,
     "metadata": {},
     "output_type": "execute_result"
    }
   ],
   "source": [
    "results"
   ]
  },
  {
   "cell_type": "code",
   "execution_count": 37,
   "id": "9110a8b2-80a5-49ec-b6e0-2e0719b9ca05",
   "metadata": {},
   "outputs": [
    {
     "data": {
      "text/plain": [
       "' The dress code in the organization is business casual.\\n3.2.5 Business Conduct\\nDeutsche Telekom expects its employees to act in a manner that is in accordance with the law and the company’s\\nbusiness practices.\\n3.2.6 Business Ethics\\nDeutsche Telekom expects its employees to act in accordance with the company’s business ethics.\\n3.2.7 Business Conduct\\nDeutsche Telekom expects its employees to act in accordance with the company’s'"
      ]
     },
     "execution_count": 37,
     "metadata": {},
     "output_type": "execute_result"
    }
   ],
   "source": [
    "results['result']"
   ]
  },
  {
   "cell_type": "code",
   "execution_count": 38,
   "id": "ef6339ed-dd10-4546-ac52-db26168f9bea",
   "metadata": {},
   "outputs": [],
   "source": [
    "search = vectordb.similarity_search_with_score(question)"
   ]
  },
  {
   "cell_type": "code",
   "execution_count": 39,
   "id": "dc3173d0-924b-44c7-9129-88902c516913",
   "metadata": {},
   "outputs": [
    {
     "data": {
      "text/plain": [
       "[(Document(page_content='discuss the same with your Team Leader / Manager or any of your colleagues, mentor or HR. However, it is suggested\\nthat you first express your views, concerns to your Reporting Manager to help alleviate your grievance before\\napproaching to the Leadership team. Any kind of communication to the Leadership team should be routed through\\nyour Team Leader/Manager for better clarity and understanding but this should not intimidate you from communicating\\nyour concerns, grievances to the Leadership team.\\n5.3 Dress Code [Modest and Smart]\\nThe dress and demeanour of T-Systems’ employee should reflect the Company’s high professional standards and\\nexpectations. Such standards include business-like appearance. All employees need to follow these guidelines\\nwhenever clients or important visitors visit our offices.\\n1) The appearance of our employees directly reflects our corporate image, especially to external parties. Thus, the\\nCompany’s dress code policy is based on the principal of “dress for the situation” and our minimum standard of\\ndress is referred to as “business casual”. Please avoid faded, torn jeans, slippers, while in office premises.\\n2) In recognition of local trends, the Company observes “Casual Fridays”. Employees are permitted to “dress-down”\\non Fridays, except in the case when business meetings with external parties are anticipated. For further\\nclarification on acceptable dress code for Fridays, please consult your supervisor/manager, or the Human\\nResources Department.\\n3) Work at Customer Site: Dress code as per customer requirement is applicable.\\n5.4 Media Relations\\nAll employees are requested to direct any calls from the media to the Leadership team or the authorized persons to\\nrespond to the enquiries Responsibility for responding to media belongs to the Leadership and those persons\\nauthorized to speak on behalf of the Company.\\n5.5 Change of Status\\nAll employees should notify the HR Operations Team of any change by updating these details on Darwinbox.\\n▪ Change of address or change in contact (telephone, pager, mobile phone etc.)\\n▪ Change in marital status, Birth of child, addition or change in nominee\\n▪ Change of name\\n▪ Change in Citizenship / Permanent Resident status\\n▪ Change of passport number, driving license, Aadhar Card, work permit, or employment pass number\\n▪ Updated list of dependents to be covered under various Employee Insurance Plans\\n▪ Death in the immediate family\\n▪ Additional qualifications acquired\\nT-Systems ICT India Pvt Ltd Internal Page 27 of 97\\nEmployee Handbook Version: 14.0 Last review :01.04.2022\\nValid from: 01.04.2022', metadata={'source': 'handbook.pdf', 'file_path': 'handbook.pdf', 'page': 27, 'total_pages': 97, 'Title': 'Employee Handbook', 'Author': 'For Internal Circulation only', 'Creator': 'Microsoft® Word for Microsoft 365', 'CreationDate': \"D:20220331163258+05'30'\", 'ModDate': \"D:20220331163258+05'30'\", 'Producer': 'Microsoft® Word for Microsoft 365'}),\n",
       "  0.6785545945167542),\n",
       " (Document(page_content='Inclusion describes the way in which we consciously involve different people (employees and others such as\\ncustomers) in work and decision-making processes and give them a sense of belonging and value within our\\norganization.\\nDE&I is a concept that aims to make a significant contribution to the business success of T-Systems India through the\\nrecognition, appreciation, inclusion, fair treatment and promotion of our diverse individual stakeholders (employees,\\nshareholders, customers, suppliers).\\nBy recognizing and promoting the diversity of our workforce, we at TSIN strive to live and strengthen DE&I as part of\\nour corporate culture. “We won’t stop until everyone is connected.”\\n3.6 Zero Tolerance on Sexual Harassment\\nEmployees of T-Systems shall be treated with dignity and respect and it’s a joint responsibility of all stake holders viz.\\nemployees, business associates, vendors to maintain a cordial working environment which is free of any kind of sexual\\nharassment whether physical, verbal or non-verbal or psychological. This policy applies to all employees, business\\nassociates (contract employees), employees of the vendor whether in office premises or outside and applies to all\\nlocations and not necessarily in work premises.\\nFor this purpose, sexual harassment includes such unwelcome sexually determined behaviour (whether directly or by\\nimplication).\\na) Physical contact and advances.\\nb) A demand or request for sexual favours.\\nc) Sexually coloured remarks.\\nd) Showing pornography or forwarding unwelcomed messages, emoji’s, pictures.\\ne) Any other unwelcome physical, verbal or non-verbal conduct of a sexual nature.\\nAn Internal Committee (IC) has been constituted by the Board of Directors in accordance to the law. A Senior Woman\\nManager will be appointed as Presiding Officer of internal committee responsible for dwelling with all topics related to\\nprevention of sexual harassment. A separate arrangement is made by IC to sensitize all employees & required policies\\n& procedures are formulated as laid down by law.\\nThe Presiding Officer will submit the report to the Chief Compliance Officer with details of investigation carried out in\\naccordance with the law and POSH policy. The Board of Directors on the recommendations of the Chief Compliance\\nOfficer will take appropriate decision on concerned individual found guilty in the investigation conducted by the IC\\nCommittee. The identity of an individual raising complaint will be kept confidential and all necessary steps would be\\ntaken to protect the dignity of concerned individual in question till the matter is concluded. The waiting period for raising\\na complaint is 90 days from the date of a particular incident and could be extended if in the opinion of IC committee\\nafter evaluating the circumstances that led to delay in raising a complaint against an individual. Employees raising false\\ncomplaints (post investigation) will be dealt with appropriate punitive action.\\nMore details can be found on Darwinbox in HR Documents Tab.\\n3.6.1 Conformity with Law\\nShould there be a conflict between these rules and the laws and regulations of India, the laws and regulations of India\\nshall take precedence.\\nT-Systems ICT India Pvt Ltd Internal Page 23 of 97\\nEmployee Handbook Version: 14.0 Last review :01.04.2022\\nValid from: 01.04.2022', metadata={'source': 'handbook.pdf', 'file_path': 'handbook.pdf', 'page': 23, 'total_pages': 97, 'Title': 'Employee Handbook', 'Author': 'For Internal Circulation only', 'Creator': 'Microsoft® Word for Microsoft 365', 'CreationDate': \"D:20220331163258+05'30'\", 'ModDate': \"D:20220331163258+05'30'\", 'Producer': 'Microsoft® Word for Microsoft 365'}),\n",
       "  1.2128335237503052),\n",
       " (Document(page_content='2. Expectations from Employees\\nAs an integral part of Deutsche Telekom family, you are expected to set high standards of professionalism and adhere\\nto the fundamental, ethical practices and principles of the Company and maintain its corporate image through the right\\nchoice of speech, behaviour and deeds. This will foster professional relationship with your colleagues, customers and\\nall other stakeholders.\\nYou have a responsibility to work in the best interest of the Company and avoid situations and actions that may create\\nthe appearance of being in conflict with the Company’s overall objectives and principles.\\nOur success is dependent on the high responsiveness to our clients, flexibility of approach, sound decisions, creative\\nbend and total dedication to the customers, both internal & external.\\n2.1 Social Charter\\n• Bearing in mind its responsibility as an international corporate group.\\n• Respecting the cultural, ethical, social, political and legal diversity of the nations and societies in which we\\noperate as a corporate group.\\n• Be aware of the necessities to satisfy today’s needs in a socially, economically and ecologically well-\\nbalanced manner which takes due account of the protection of the living and working conditions of future\\ngenerations.\\n• Compliance with internationally recognized norms, directives and standards, those of ILO, OECD and the\\nGlobal Compact.\\n2.2 Social Principles\\nSection 1. Basic Social Principles of Deutsche Telekom.\\n• Acknowledges and respects the cultural, social, political and legal diversity of all nations and societies and\\nis committed to protect internationally applicable human rights on an on-going basis.\\n• Recognizes the fundamental right to the freedom of association and the right to collective bargaining within\\nthe scope of national regulations and existing agreements.\\n• Deutsche Telekom also declares itself in favour of cooperating with legitimate democratic employee\\nrepresentations in an open and trusting manner based on a constructive social dialog with the aim of\\nachieving a fair balance of interests.\\n• Emphatically declares itself in favour of prohibiting any and all kinds of forced labour.\\nT-Systems ICT India Pvt Ltd Internal Page 17 of 97\\nEmployee Handbook Version: 14.0 Last review :01.04.2022\\nValid from: 01.04.2022', metadata={'source': 'handbook.pdf', 'file_path': 'handbook.pdf', 'page': 17, 'total_pages': 97, 'Title': 'Employee Handbook', 'Author': 'For Internal Circulation only', 'Creator': 'Microsoft® Word for Microsoft 365', 'CreationDate': \"D:20220331163258+05'30'\", 'ModDate': \"D:20220331163258+05'30'\", 'Producer': 'Microsoft® Word for Microsoft 365'}),\n",
       "  1.23060142993927),\n",
       " (Document(page_content='3. Corporate guidelines\\n3.1 Corporate Vision\\n“As a leading services Company in the Telecommunications and Information Technology Industry, we network society\\nfor a better future, with top quality, efficiency and innovation, to the benefit of our customers, in every respect.”\\nThe key to company success lies in a Group-wide company culture that is characterized by integrity, ethics and personal\\nresponsibility. The ethical requirements that pertain to business operations and the workplace are becoming\\nincreasingly complex.\\n3.2. Code of Conduct\\nLiving the Code of Conduct each day is our ambition and responsibility!\\nOur Code of Conduct is a framework for guiding the behaviour of all employees in the Deutsche Telekom Group. It\\nconfirms our standard of respecting laws and regulations with the special requirements regarding ethical behavior and\\nwith the 6 Guiding Principles that enable our success in business. It is a demand that we make of ourselves as well as a\\npromise that we communicate to those outside the company.\\nOur Code of Conduct is dynamic; it is not closed to new behavioral norms. Legal norms can transform over time and\\nnew regulations can serve to clearly define behavioral requirements. Being part of the Deutsche Telekom Group and\\nsharing its identity requires each and every individual accept his/her responsibility. We are aware that a single incident\\nof misconduct can damage not only our success, but also the reputation that the company has acquired over many\\nyears by our employees. We have to adhere to the behavioral standard and therefore any misconduct will not be\\ntolerated.\\n3.2.1 Corporate Governance\\nDeutsche Telekom complies with all legal regulations governing the management and monitoring of the company as\\nwell as to respect and maintain the internationally recognized standards of good and responsible corporate governance.\\n3.2.2 Business Relationships\\nTrust and fairness in all business decisions are the indispensable elements of Deutsche Telekom dealing with its\\nbusiness partners. The private interests or personal gain of employees do not have any influence on business decisions.\\n3.2.3 Avoiding other Conflicts of Interest\\nDeutsche Telekom expects that the personal interests of its Board of Management members, managing directors,\\nexecutives and employees will not conflict with its interests.\\n3.2.4 Private Use of Company Property\\nThe private use of company property is permissible only where provided for by individual contract, collective agreement\\nT-Systems ICT India Pvt Ltd Internal Page 19 of 97\\nEmployee Handbook Version: 14.0 Last review :01.04.2022\\nValid from: 01.04.2022', metadata={'source': 'handbook.pdf', 'file_path': 'handbook.pdf', 'page': 19, 'total_pages': 97, 'Title': 'Employee Handbook', 'Author': 'For Internal Circulation only', 'Creator': 'Microsoft® Word for Microsoft 365', 'CreationDate': \"D:20220331163258+05'30'\", 'ModDate': \"D:20220331163258+05'30'\", 'Producer': 'Microsoft® Word for Microsoft 365'}),\n",
       "  1.2466212511062622)]"
      ]
     },
     "execution_count": 39,
     "metadata": {},
     "output_type": "execute_result"
    }
   ],
   "source": [
    "search"
   ]
  },
  {
   "cell_type": "code",
   "execution_count": 47,
   "id": "5e57ace4-9748-4e5b-b879-4e14ff4f75fd",
   "metadata": {},
   "outputs": [
    {
     "name": "stdout",
     "output_type": "stream",
     "text": [
      "discuss the same with your Team Leader / Manager or any of your colleagues, mentor or HR. However, it is suggested\n",
      "that you first express your views, concerns to your Reporting Manager to help alleviate your grievance before\n",
      "approaching to the Leadership team. Any kind of communication to the Leadership team should be routed through\n",
      "your Team Leader/Manager for better clarity and understanding but this should not intimidate you from communicating\n",
      "your concerns, grievances to the Leadership team.\n",
      "5.3 Dress Code [Modest and Smart]\n",
      "The dress and demeanour of T-Systems’ employee should reflect the Company’s high professional standards and\n",
      "expectations. Such standards include business-like appearance. All employees need to follow these guidelines\n",
      "whenever clients or important visitors visit our offices.\n",
      "1) The appearance of our employees directly reflects our corporate image, especially to external parties. Thus, the\n",
      "Company’s dress code policy is based on the principal of “dress for the situation” and our minimum standard of\n",
      "dress is referred to as “business casual”. Please avoid faded, torn jeans, slippers, while in office premises.\n",
      "2) In recognition of local trends, the Company observes “Casual Fridays”. Employees are permitted to “dress-down”\n",
      "on Fridays, except in the case when business meetings with external parties are anticipated. For further\n",
      "clarification on acceptable dress code for Fridays, please consult your supervisor/manager, or the Human\n",
      "Resources Department.\n",
      "3) Work at Customer Site: Dress code as per customer requirement is applicable.\n",
      "5.4 Media Relations\n",
      "All employees are requested to direct any calls from the media to the Leadership team or the authorized persons to\n",
      "respond to the enquiries Responsibility for responding to media belongs to the Leadership and those persons\n",
      "authorized to speak on behalf of the Company.\n",
      "5.5 Change of Status\n",
      "All employees should notify the HR Operations Team of any change by updating these details on Darwinbox.\n",
      "▪ Change of address or change in contact (telephone, pager, mobile phone etc.)\n",
      "▪ Change in marital status, Birth of child, addition or change in nominee\n",
      "▪ Change of name\n",
      "▪ Change in Citizenship / Permanent Resident status\n",
      "▪ Change of passport number, driving license, Aadhar Card, work permit, or employment pass number\n",
      "▪ Updated list of dependents to be covered under various Employee Insurance Plans\n",
      "▪ Death in the immediate family\n",
      "▪ Additional qualifications acquired\n",
      "T-Systems ICT India Pvt Ltd Internal Page 27 of 97\n",
      "Employee Handbook Version: 14.0 Last review :01.04.2022\n",
      "Valid from: 01.04.2022\n"
     ]
    }
   ],
   "source": [
    "print(search[0][0].page_content)"
   ]
  },
  {
   "cell_type": "code",
   "execution_count": null,
   "id": "400b8431-35e4-4bdf-a86d-029a80634b52",
   "metadata": {},
   "outputs": [],
   "source": []
  },
  {
   "cell_type": "code",
   "execution_count": null,
   "id": "c392405e-8bcb-45bc-8cfb-25be6f4acc9d",
   "metadata": {},
   "outputs": [],
   "source": []
  },
  {
   "cell_type": "markdown",
   "id": "e4200a8c-2edf-471b-942c-d320172d146b",
   "metadata": {},
   "source": [
    "## Class Oriented"
   ]
  },
  {
   "cell_type": "code",
   "execution_count": 49,
   "id": "587d3732-eb00-48a2-bf78-789e2c7744c0",
   "metadata": {},
   "outputs": [],
   "source": [
    "class PdfQA:\n",
    "    def __init__(self,config:dict = {}):\n",
    "        self.config = config\n",
    "        self.embedding = None\n",
    "        self.vectordb = None\n",
    "        self.llm = None\n",
    "        self.qa = None\n",
    "        self.retriever = None\n",
    "\n",
    "    # The following class methods are useful to create global GPU model instances\n",
    "    # This way we don't need to reload models in an interactive app,\n",
    "    # and the same model instance can be used across multiple user sessions\n",
    "    @classmethod\n",
    "    def create_instructor_xl(cls):\n",
    "        device = \"cuda\" if torch.cuda.is_available() else \"cpu\"\n",
    "        return HuggingFaceInstructEmbeddings(model_name=EMB_INSTRUCTOR_XL, model_kwargs={\"device\": device})\n",
    "    \n",
    "    @classmethod\n",
    "    def create_sbert_mpnet(cls):\n",
    "        device = \"cuda\" if torch.cuda.is_available() else \"cpu\"\n",
    "        return HuggingFaceEmbeddings(model_name=EMB_SBERT_MPNET_BASE, model_kwargs={\"device\": device})\n",
    "    \n",
    "    @classmethod\n",
    "    def create_flan_t5_xxl(cls, load_in_8bit=False):\n",
    "        # Local flan-t5-xxl with 8-bit quantization for inference\n",
    "        # Wrap it in HF pipeline for use with LangChain\n",
    "        return pipeline(\n",
    "            task=\"text2text-generation\",\n",
    "            model=\"google/flan-t5-xxl\",\n",
    "            max_new_tokens=200,\n",
    "            model_kwargs={\"device_map\": \"auto\", \"load_in_8bit\": load_in_8bit, \"max_length\": 512, \"temperature\": 0.}\n",
    "        )\n",
    "    @classmethod\n",
    "    def create_flan_t5_xl(cls, load_in_8bit=False):\n",
    "        return pipeline(\n",
    "            task=\"text2text-generation\",\n",
    "            model=\"google/flan-t5-xl\",\n",
    "            max_new_tokens=200,\n",
    "            model_kwargs={\"device_map\": \"auto\", \"load_in_8bit\": load_in_8bit, \"max_length\": 512, \"temperature\": 0.}\n",
    "        )\n",
    "    \n",
    "    @classmethod\n",
    "    def create_flan_t5_small(cls, load_in_8bit=False):\n",
    "        # Local flan-t5-small for inference\n",
    "        # Wrap it in HF pipeline for use with LangChain\n",
    "        model=\"google/flan-t5-small\"\n",
    "        tokenizer = AutoTokenizer.from_pretrained(model)\n",
    "        return pipeline(\n",
    "            task=\"text2text-generation\",\n",
    "            model=model,\n",
    "            tokenizer = tokenizer,\n",
    "            max_new_tokens=100,\n",
    "            model_kwargs={\"device_map\": \"auto\", \"load_in_8bit\": load_in_8bit, \"max_length\": 512, \"temperature\": 0.}\n",
    "        )\n",
    "    @classmethod\n",
    "    def create_flan_t5_base(cls, load_in_8bit=False):\n",
    "        # Wrap it in HF pipeline for use with LangChain\n",
    "        model=\"google/flan-t5-base\"\n",
    "        tokenizer = AutoTokenizer.from_pretrained(model)\n",
    "        return pipeline(\n",
    "            task=\"text2text-generation\",\n",
    "            model=model,\n",
    "            tokenizer = tokenizer,\n",
    "            max_new_tokens=100,\n",
    "            model_kwargs={\"device_map\": \"auto\", \"load_in_8bit\": load_in_8bit, \"max_length\": 512, \"temperature\": 0.}\n",
    "        )\n",
    "    @classmethod\n",
    "    def create_flan_t5_large(cls, load_in_8bit=False):\n",
    "        # Wrap it in HF pipeline for use with LangChain\n",
    "        model=\"google/flan-t5-large\"\n",
    "        tokenizer = AutoTokenizer.from_pretrained(model)\n",
    "        return pipeline(\n",
    "            task=\"text2text-generation\",\n",
    "            model=model,\n",
    "            tokenizer = tokenizer,\n",
    "            max_new_tokens=100,\n",
    "            model_kwargs={\"device_map\": \"auto\", \"load_in_8bit\": load_in_8bit, \"max_length\": 512, \"temperature\": 0.}\n",
    "        )\n",
    "    @classmethod\n",
    "    def create_fastchat_t5_xl(cls, load_in_8bit=False):\n",
    "        return pipeline(\n",
    "            task=\"text2text-generation\",\n",
    "            model = \"lmsys/fastchat-t5-3b-v1.0\",\n",
    "            max_new_tokens=100,\n",
    "            model_kwargs={\"device_map\": \"auto\", \"load_in_8bit\": load_in_8bit, \"max_length\": 512, \"temperature\": 0.}\n",
    "        )\n",
    "    \n",
    "    @classmethod\n",
    "    def create_falcon_instruct_small(cls, load_in_8bit=False):\n",
    "        model = \"tiiuae/falcon-7b-instruct\"\n",
    "\n",
    "        tokenizer = AutoTokenizer.from_pretrained(model)\n",
    "        hf_pipeline = pipeline(\n",
    "                task=\"text-generation\",\n",
    "                model = model,\n",
    "                tokenizer = tokenizer,\n",
    "                trust_remote_code = True,\n",
    "                max_new_tokens=100,\n",
    "                model_kwargs={\n",
    "                    \"device_map\": \"auto\", \n",
    "                    \"load_in_8bit\": load_in_8bit, \n",
    "                    \"max_length\": 512, \n",
    "                    \"temperature\": 0.01,\n",
    "                    \"torch_dtype\":torch.bfloat16,\n",
    "                    }\n",
    "            )\n",
    "        return hf_pipeline\n",
    "    \n",
    "    def init_embeddings(self) -> None:\n",
    "        # OpenAI ada embeddings API\n",
    "        if self.config[\"embedding\"] == EMB_OPENAI_ADA:\n",
    "            self.embedding = OpenAIEmbeddings()\n",
    "        elif self.config[\"embedding\"] == EMB_INSTRUCTOR_XL:\n",
    "            # Local INSTRUCTOR-XL embeddings\n",
    "            if self.embedding is None:\n",
    "                self.embedding = PdfQA.create_instructor_xl()\n",
    "        elif self.config[\"embedding\"] == EMB_SBERT_MPNET_BASE:\n",
    "            ## this is for SBERT\n",
    "            if self.embedding is None:\n",
    "                self.embedding = PdfQA.create_sbert_mpnet()\n",
    "        else:\n",
    "            self.embedding = None ## DuckDb uses sbert embeddings\n",
    "            # raise ValueError(\"Invalid config\")\n",
    "\n",
    "    def init_models(self) -> None:\n",
    "        \"\"\" Initialize LLM models based on config \"\"\"\n",
    "        load_in_8bit = self.config.get(\"load_in_8bit\",False)\n",
    "        # OpenAI GPT 3.5 API\n",
    "        if self.config[\"llm\"] == LLM_OPENAI_GPT35:\n",
    "            # OpenAI GPT 3.5 API\n",
    "            pass\n",
    "        elif self.config[\"llm\"] == LLM_FLAN_T5_SMALL:\n",
    "            if self.llm is None:\n",
    "                self.llm = PdfQA.create_flan_t5_small(load_in_8bit=load_in_8bit)\n",
    "        elif self.config[\"llm\"] == LLM_FLAN_T5_BASE:\n",
    "            if self.llm is None:\n",
    "                self.llm = PdfQA.create_flan_t5_base(load_in_8bit=load_in_8bit)\n",
    "        elif self.config[\"llm\"] == LLM_FLAN_T5_LARGE:\n",
    "            if self.llm is None:\n",
    "                self.llm = PdfQA.create_flan_t5_large(load_in_8bit=load_in_8bit)\n",
    "        elif self.config[\"llm\"] == LLM_FLAN_T5_XL:\n",
    "            if self.llm is None:\n",
    "                self.llm = PdfQA.create_flan_t5_xl(load_in_8bit=load_in_8bit)\n",
    "        elif self.config[\"llm\"] == LLM_FLAN_T5_XXL:\n",
    "            if self.llm is None:\n",
    "                self.llm = PdfQA.create_flan_t5_xxl(load_in_8bit=load_in_8bit)\n",
    "        elif self.config[\"llm\"] == LLM_FASTCHAT_T5_XL:\n",
    "            if self.llm is None:\n",
    "                self.llm = PdfQA.create_fastchat_t5_xl(load_in_8bit=load_in_8bit)\n",
    "        elif self.config[\"llm\"] == LLM_FALCON_SMALL:\n",
    "            if self.llm is None:\n",
    "                self.llm = PdfQA.create_falcon_instruct_small(load_in_8bit=load_in_8bit)\n",
    "        \n",
    "        else:\n",
    "            raise ValueError(\"Invalid config\")        \n",
    "    def vector_db_pdf(self) -> None:\n",
    "        \"\"\"\n",
    "        creates vector db for the embeddings and persists them or loads a vector db from the persist directory\n",
    "        \"\"\"\n",
    "        pdf_path = self.config.get(\"pdf_path\",None)\n",
    "        persist_directory = self.config.get(\"persist_directory\",None)\n",
    "        if persist_directory and os.path.exists(persist_directory):\n",
    "            ## Load from the persist db\n",
    "            self.vectordb = Chroma(persist_directory=persist_directory, embedding_function=self.embedding)\n",
    "        elif pdf_path and os.path.exists(pdf_path):\n",
    "            ## 1. Extract the documents\n",
    "            loader = PDFPlumberLoader(pdf_path)\n",
    "            documents = loader.load()\n",
    "            ## 2. Split the texts\n",
    "            text_splitter = CharacterTextSplitter(chunk_size=100, chunk_overlap=0)\n",
    "            texts = text_splitter.split_documents(documents)\n",
    "            # text_splitter = TokenTextSplitter(chunk_size=100, chunk_overlap=10, encoding_name=\"cl100k_base\")  # This the encoding for text-embedding-ada-002\n",
    "            text_splitter = TokenTextSplitter(chunk_size=100, chunk_overlap=10)  # This the encoding for text-embedding-ada-002\n",
    "            texts = text_splitter.split_documents(texts)\n",
    "\n",
    "            ## 3. Create Embeddings and add to chroma store\n",
    "            ##TODO: Validate if self.embedding is not None\n",
    "            self.vectordb = Chroma.from_documents(documents=texts, embedding=self.embedding, persist_directory=persist_directory)\n",
    "        else:\n",
    "            raise ValueError(\"NO PDF found\")\n",
    "\n",
    "    def retreival_qa_chain(self):\n",
    "        \"\"\"\n",
    "        Creates retrieval qa chain using vectordb as retrivar and LLM to complete the prompt\n",
    "        \"\"\"\n",
    "        ##TODO: Use custom prompt\n",
    "        self.retriever = self.vectordb.as_retriever(search_kwargs={\"k\":3})\n",
    "        \n",
    "        if self.config[\"llm\"] == LLM_OPENAI_GPT35:\n",
    "          # Use ChatGPT API\n",
    "          self.qa = RetrievalQA.from_chain_type(llm=OpenAI(model_name=LLM_OPENAI_GPT35, temperature=0.), chain_type=\"stuff\",\\\n",
    "                                      retriever=self.vectordb.as_retriever(search_kwargs={\"k\":3}))\n",
    "        else:\n",
    "            hf_llm = HuggingFacePipeline(pipeline=self.llm,model_id=self.config[\"llm\"])\n",
    "\n",
    "            self.qa = RetrievalQA.from_chain_type(llm=hf_llm, chain_type=\"stuff\",retriever=self.retriever)\n",
    "            if self.config[\"llm\"] == LLM_FLAN_T5_SMALL or self.config[\"llm\"] == LLM_FLAN_T5_BASE or self.config[\"llm\"] == LLM_FLAN_T5_LARGE:\n",
    "                question_t5_template = \"\"\"\n",
    "                context: {context}\n",
    "                question: {question}\n",
    "                answer: \n",
    "                \"\"\"\n",
    "                QUESTION_T5_PROMPT = PromptTemplate(\n",
    "                    template=question_t5_template, input_variables=[\"context\", \"question\"]\n",
    "                )\n",
    "                self.qa.combine_documents_chain.llm_chain.prompt = QUESTION_T5_PROMPT\n",
    "            self.qa.combine_documents_chain.verbose = True\n",
    "            self.qa.return_source_documents = True\n",
    "    def answer_query(self,question:str) ->str:\n",
    "        \"\"\"\n",
    "        Answer the question\n",
    "        \"\"\"\n",
    "\n",
    "        answer_dict = self.qa({\"query\":question,})\n",
    "        print(answer_dict)\n",
    "        answer = answer_dict[\"result\"]\n",
    "        if self.config[\"llm\"] == LLM_FASTCHAT_T5_XL:\n",
    "            answer = self._clean_fastchat_t5_output(answer)\n",
    "        return answer\n",
    "    def _clean_fastchat_t5_output(self, answer: str) -> str:\n",
    "        # Remove <pad> tags, double spaces, trailing newline\n",
    "        answer = re.sub(r\"<pad>\\s+\", \"\", answer)\n",
    "        answer = re.sub(r\"  \", \" \", answer)\n",
    "        answer = re.sub(r\"\\n$\", \"\", answer)\n",
    "        return answer"
   ]
  },
  {
   "cell_type": "code",
   "execution_count": 55,
   "id": "ea5b0505-3d84-4985-9125-dea9e4631204",
   "metadata": {},
   "outputs": [
    {
     "data": {
      "application/vnd.jupyter.widget-view+json": {
       "model_id": "136f81261ca54acca7949fe8088fe08d",
       "version_major": 2,
       "version_minor": 0
      },
      "text/plain": [
       "Loading checkpoint shards:   0%|          | 0/2 [00:00<?, ?it/s]"
      ]
     },
     "metadata": {},
     "output_type": "display_data"
    },
    {
     "name": "stderr",
     "output_type": "stream",
     "text": [
      "The model 'RWForCausalLM' is not supported for text-generation. Supported models are ['BartForCausalLM', 'BertLMHeadModel', 'BertGenerationDecoder', 'BigBirdForCausalLM', 'BigBirdPegasusForCausalLM', 'BioGptForCausalLM', 'BlenderbotForCausalLM', 'BlenderbotSmallForCausalLM', 'BloomForCausalLM', 'CamembertForCausalLM', 'CodeGenForCausalLM', 'CpmAntForCausalLM', 'CTRLLMHeadModel', 'Data2VecTextForCausalLM', 'ElectraForCausalLM', 'ErnieForCausalLM', 'GitForCausalLM', 'GPT2LMHeadModel', 'GPT2LMHeadModel', 'GPTBigCodeForCausalLM', 'GPTNeoForCausalLM', 'GPTNeoXForCausalLM', 'GPTNeoXJapaneseForCausalLM', 'GPTJForCausalLM', 'LlamaForCausalLM', 'MarianForCausalLM', 'MBartForCausalLM', 'MegaForCausalLM', 'MegatronBertForCausalLM', 'MvpForCausalLM', 'OpenLlamaForCausalLM', 'OpenAIGPTLMHeadModel', 'OPTForCausalLM', 'PegasusForCausalLM', 'PLBartForCausalLM', 'ProphetNetForCausalLM', 'QDQBertLMHeadModel', 'ReformerModelWithLMHead', 'RemBertForCausalLM', 'RobertaForCausalLM', 'RobertaPreLayerNormForCausalLM', 'RoCBertForCausalLM', 'RoFormerForCausalLM', 'RwkvForCausalLM', 'Speech2Text2ForCausalLM', 'TransfoXLLMHeadModel', 'TrOCRForCausalLM', 'XGLMForCausalLM', 'XLMWithLMHeadModel', 'XLMProphetNetForCausalLM', 'XLMRobertaForCausalLM', 'XLMRobertaXLForCausalLM', 'XLNetLMHeadModel', 'XmodForCausalLM'].\n",
      "Setting `pad_token_id` to `eos_token_id`:11 for open-end generation.\n"
     ]
    },
    {
     "name": "stdout",
     "output_type": "stream",
     "text": [
      "\n",
      "\n",
      "\u001b[1m> Entering new StuffDocumentsChain chain...\u001b[0m\n",
      "\n",
      "\u001b[1m> Finished chain.\u001b[0m\n",
      "{'query': 'what is the dress code in the organization?', 'result': ' The dress code in the organization is based on the principle of “dress for the situation” and our minimum standard of dress is referred to as “business casual”. Please avoid faded, torn jeans, slippers, while in office premises.', 'source_documents': [Document(page_content=' Leadership team.\\n5.3 Dress Code [Modest and Smart]\\nThe dress and demeanour of T-Systems’ employee should reflect the Company’s high professional standards and\\nexpectations. Such standards include business-like appearance. All employees need to follow these guidelines\\nwhenever clients or important visitors visit our offices.\\n1) The appearance of our employees directly reflects our corporate image, especially to external parties. Thus, the\\nCompany’s dress', metadata={'source': 'handbook.pdf', 'file_path': 'handbook.pdf', 'page': 27, 'total_pages': 97, 'Title': 'Employee Handbook', 'Author': 'For Internal Circulation only', 'Creator': 'Microsoft® Word for Microsoft 365', 'CreationDate': \"D:20220331163258+05'30'\", 'ModDate': \"D:20220331163258+05'30'\", 'Producer': 'Microsoft® Word for Microsoft 365'}), Document(page_content='. Thus, the\\nCompany’s dress code policy is based on the principal of “dress for the situation” and our minimum standard of\\ndress is referred to as “business casual”. Please avoid faded, torn jeans, slippers, while in office premises.\\n2) In recognition of local trends, the Company observes “Casual Fridays”. Employees are permitted to “dress-down”\\non Fridays, except in the case when business', metadata={'source': 'handbook.pdf', 'file_path': 'handbook.pdf', 'page': 27, 'total_pages': 97, 'Title': 'Employee Handbook', 'Author': 'For Internal Circulation only', 'Creator': 'Microsoft® Word for Microsoft 365', 'CreationDate': \"D:20220331163258+05'30'\", 'ModDate': \"D:20220331163258+05'30'\", 'Producer': 'Microsoft® Word for Microsoft 365'}), Document(page_content='\\non Fridays, except in the case when business meetings with external parties are anticipated. For further\\nclarification on acceptable dress code for Fridays, please consult your supervisor/manager, or the Human\\nResources Department.\\n3) Work at Customer Site: Dress code as per customer requirement is applicable.\\n5.4 Media Relations\\nAll employees are requested to direct any calls from the media to the Leadership team or the authorized persons to\\nrespond to the enquiries Responsibility for responding to media belongs', metadata={'source': 'handbook.pdf', 'file_path': 'handbook.pdf', 'page': 27, 'total_pages': 97, 'Title': 'Employee Handbook', 'Author': 'For Internal Circulation only', 'Creator': 'Microsoft® Word for Microsoft 365', 'CreationDate': \"D:20220331163258+05'30'\", 'ModDate': \"D:20220331163258+05'30'\", 'Producer': 'Microsoft® Word for Microsoft 365'})]}\n"
     ]
    },
    {
     "data": {
      "text/plain": [
       "' The dress code in the organization is based on the principle of “dress for the situation” and our minimum standard of dress is referred to as “business casual”. Please avoid faded, torn jeans, slippers, while in office premises.'"
      ]
     },
     "execution_count": 55,
     "metadata": {},
     "output_type": "execute_result"
    }
   ],
   "source": [
    "EMB_OPENAI_ADA = \"text-embedding-ada-002\"\n",
    "EMB_INSTRUCTOR_XL = \"hkunlp/instructor-xl\"\n",
    "EMB_SBERT_MPNET_BASE = \"sentence-transformers/all-mpnet-base-v2\" \n",
    "\n",
    "LLM_OPENAI_GPT35 = \"gpt-3.5-turbo\"\n",
    "LLM_FLAN_T5_XXL = \"google/flan-t5-xxl\"\n",
    "LLM_FLAN_T5_XL = \"google/flan-t5-xl\"\n",
    "LLM_FASTCHAT_T5_XL = \"lmsys/fastchat-t5-3b-v1.0\"\n",
    "LLM_FLAN_T5_SMALL = \"google/flan-t5-small\"\n",
    "LLM_FLAN_T5_BASE = \"google/flan-t5-base\"\n",
    "LLM_FLAN_T5_LARGE = \"google/flan-t5-large\"\n",
    "LLM_FALCON_SMALL = \"tiiuae/falcon-7b-instruct\"\n",
    "\n",
    "config = {\"persist_directory\":None,\n",
    "          \"load_in_8bit\":False,\n",
    "          \"embedding\" : \"sentence-transformers/all-mpnet-base-v2\",\n",
    "          \"llm\": \"tiiuae/falcon-7b-instruct\",\n",
    "          \"pdf_path\":\"handbook.pdf\"\n",
    "          }\n",
    "\n",
    "# Initialize PDFQA\n",
    "pdfqa = PdfQA(config=config)\n",
    "pdfqa.init_embeddings()\n",
    "pdfqa.init_models()\n",
    "\n",
    "# Create Vector DB \n",
    "pdfqa.vector_db_pdf()\n",
    "\n",
    "# Set up Retrieval QA Chain\n",
    "pdfqa.retreival_qa_chain()\n",
    "\n",
    "# Query the model\n",
    "question = \"what is the dress code in the organization?\"\n",
    "pdfqa.answer_query(question)\n"
   ]
  },
  {
   "cell_type": "code",
   "execution_count": null,
   "id": "22e2bb79-7212-4b36-9fef-d44c84245a58",
   "metadata": {},
   "outputs": [],
   "source": []
  },
  {
   "cell_type": "code",
   "execution_count": null,
   "id": "b769abd8-4938-49b3-b2af-17bf7181d0de",
   "metadata": {},
   "outputs": [],
   "source": []
  },
  {
   "cell_type": "code",
   "execution_count": null,
   "id": "60644f61-907f-4b07-aef2-b22d29c0dc7a",
   "metadata": {},
   "outputs": [],
   "source": []
  },
  {
   "cell_type": "code",
   "execution_count": null,
   "id": "9878cb40-3664-4e94-9d95-9bce4f72c31e",
   "metadata": {},
   "outputs": [],
   "source": []
  },
  {
   "cell_type": "code",
   "execution_count": null,
   "id": "e502acba-8217-4baf-9764-c2ae185a9b3f",
   "metadata": {},
   "outputs": [],
   "source": []
  },
  {
   "cell_type": "code",
   "execution_count": null,
   "id": "7aec9024-8908-4e65-84e1-0a4681cdd828",
   "metadata": {},
   "outputs": [],
   "source": []
  },
  {
   "cell_type": "code",
   "execution_count": null,
   "id": "3fef7c43-1a0e-4391-8c84-3d8828c45206",
   "metadata": {},
   "outputs": [],
   "source": []
  },
  {
   "cell_type": "code",
   "execution_count": null,
   "id": "6c7014a8-4158-4695-9913-e5f2f846f735",
   "metadata": {},
   "outputs": [],
   "source": []
  },
  {
   "cell_type": "code",
   "execution_count": null,
   "id": "2ea08bf5-ca2e-4a97-9cf2-32143a8c8573",
   "metadata": {},
   "outputs": [],
   "source": []
  },
  {
   "cell_type": "code",
   "execution_count": null,
   "id": "66562de4-0f3b-467f-9226-21b9b0e56620",
   "metadata": {},
   "outputs": [],
   "source": []
  }
 ],
 "metadata": {
  "kernelspec": {
   "display_name": "Python 3 (ipykernel)",
   "language": "python",
   "name": "python3"
  },
  "language_info": {
   "codemirror_mode": {
    "name": "ipython",
    "version": 3
   },
   "file_extension": ".py",
   "mimetype": "text/x-python",
   "name": "python",
   "nbconvert_exporter": "python",
   "pygments_lexer": "ipython3",
   "version": "3.10.11"
  }
 },
 "nbformat": 4,
 "nbformat_minor": 5
}
